{
 "cells": [
  {
   "cell_type": "raw",
   "metadata": {},
   "source": [
    "---\n",
    "title: \"Handling Long Lines Of Code\"\n",
    "author: \"Chris Albon\"\n",
    "date: 2020-07-07T11:53:49-07:00\n",
    "description: \"How to handle long lines of code in Python.\"\n",
    "type: technical_note\n",
    "draft: false\n",
    "---"
   ]
  },
  {
   "cell_type": "markdown",
   "metadata": {},
   "source": [
    "Often engineers and data scientists run into a situation where they have a very long line of code. This is both ugly and break's Pythonic best practices."
   ]
  },
  {
   "cell_type": "markdown",
   "metadata": {},
   "source": [
    "## Preliminaries"
   ]
  },
  {
   "cell_type": "code",
   "execution_count": 1,
   "metadata": {},
   "outputs": [],
   "source": [
    "import statistics"
   ]
  },
  {
   "cell_type": "markdown",
   "metadata": {},
   "source": [
    "## Create Data"
   ]
  },
  {
   "cell_type": "code",
   "execution_count": 2,
   "metadata": {},
   "outputs": [],
   "source": [
    "ages_of_community_members = [39, 23, 55, 23, 53, 27, 34, 67, 32, 34, 56]\n",
    "number_of_ages = [4, 4, 5, 6, 7, 8, 5, 7, 3, 2, 4]"
   ]
  },
  {
   "cell_type": "markdown",
   "metadata": {},
   "source": [
    "## Create Long Line Of Code"
   ]
  },
  {
   "cell_type": "code",
   "execution_count": 3,
   "metadata": {},
   "outputs": [],
   "source": [
    "member_years_by_age = [first_list_element * second_list_element for first_list_element, second_list_element in zip(ages_of_community_members, number_of_ages)]"
   ]
  },
  {
   "cell_type": "markdown",
   "metadata": {},
   "source": [
    "## Shorten Long Line\n",
    "\n",
    "While you can use `\\` to break up lines of code. A more simple and readable option is to take advantage of the fact that line breaks are ignored inside `[]`, `{}`, and `[]`. Then use comments to help the reader understand the line."
   ]
  },
  {
   "cell_type": "code",
   "execution_count": 4,
   "metadata": {},
   "outputs": [],
   "source": [
    "# Create a variable with the count of members per age\n",
    "member_years_by_age = [# multiply the first list's element by the second list's element\n",
    "                           first_list_element * second_list_element \n",
    "                           # for the first list's elements and second list's element \n",
    "                           for first_list_element, second_list_element \n",
    "                           # for each element in a zip between the age of community members\n",
    "                           in zip(ages_of_community_members, \n",
    "                                  # and the number of members by age\n",
    "                                  number_of_ages)\n",
    "                          ]"
   ]
  }
 ],
 "metadata": {
  "kernelspec": {
   "display_name": "Python 3",
   "language": "python",
   "name": "python3"
  },
  "language_info": {
   "codemirror_mode": {
    "name": "ipython",
    "version": 3
   },
   "file_extension": ".py",
   "mimetype": "text/x-python",
   "name": "python",
   "nbconvert_exporter": "python",
   "pygments_lexer": "ipython3",
   "version": "3.7.5"
  }
 },
 "nbformat": 4,
 "nbformat_minor": 2
}
