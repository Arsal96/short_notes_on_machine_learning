{
 "cells": [
  {
   "cell_type": "raw",
   "metadata": {},
   "source": [
    "---\n",
    "title: \"Annotate Functions\"\n",
    "author: \"Chris Albon\"\n",
    "date: 2021-02-19T00:00:00-07:00\n",
    "description: \"How to annotate a function in Python.\"\n",
    "type: technical_note\n",
    "draft: false\n",
    "---"
   ]
  },
  {
   "cell_type": "markdown",
   "metadata": {},
   "source": [
    "_This tutorial is inspired by [Clean Code in Python](https://amzn.to/3ue4Ywv) by Mariano Anaya._\n",
    "\n",
    "Functions can include annotations providing additional information about the data type of a function's inputs and outputs. This information is not used by Python by default, but can be used by other libraries like [Mypy](https://mypy.readthedocs.io/en/stable/) to create [static-typing](https://en.wikipedia.org/wiki/Type_system#Static_and_dynamic_type_checking_in_practice)."
   ]
  },
  {
   "cell_type": "markdown",
   "metadata": {},
   "source": [
    "## Create Variables"
   ]
  },
  {
   "cell_type": "code",
   "execution_count": 1,
   "metadata": {},
   "outputs": [],
   "source": [
    "# Create two variables to use as inputs to the function\n",
    "fruit = 'Apple'\n",
    "pieces = 12"
   ]
  },
  {
   "cell_type": "markdown",
   "metadata": {},
   "source": [
    "## Create Function"
   ]
  },
  {
   "cell_type": "code",
   "execution_count": 2,
   "metadata": {},
   "outputs": [],
   "source": [
    "# Create a function called describe_fruit that has two parameters,\n",
    "# fruit_type that should be a string and fruit_number which should be an integer.\n",
    "# The output of the function should be a string.\n",
    "def describe_fruit(fruit_type: str, fruit_number: int) -> str:\n",
    "    \n",
    "    # Create output from the inputs\n",
    "    description = \"We have \" + str(fruit_number) + \" pieces of \" + fruit_type \n",
    "    \n",
    "    # Return the output\n",
    "    return description"
   ]
  },
  {
   "cell_type": "markdown",
   "metadata": {},
   "source": [
    "## Execute Function"
   ]
  },
  {
   "cell_type": "code",
   "execution_count": 3,
   "metadata": {
    "scrolled": true
   },
   "outputs": [
    {
     "data": {
      "text/plain": [
       "'We have twelve pieces of Apple'"
      ]
     },
     "execution_count": 3,
     "metadata": {},
     "output_type": "execute_result"
    }
   ],
   "source": [
    "# Run function with inputs\n",
    "describe_fruit(fruit, pieces)"
   ]
  },
  {
   "cell_type": "markdown",
   "metadata": {},
   "source": [
    "## View Function's Annotations"
   ]
  },
  {
   "cell_type": "code",
   "execution_count": 4,
   "metadata": {},
   "outputs": [
    {
     "data": {
      "text/plain": [
       "{'fruit_type': str, 'fruit_number': int, 'return': str}"
      ]
     },
     "execution_count": 4,
     "metadata": {},
     "output_type": "execute_result"
    }
   ],
   "source": [
    "# List the annotations of the function\n",
    "describe_fruit.__annotations__"
   ]
  }
 ],
 "metadata": {
  "kernelspec": {
   "display_name": "Python 3",
   "language": "python",
   "name": "python3"
  },
  "language_info": {
   "codemirror_mode": {
    "name": "ipython",
    "version": 3
   },
   "file_extension": ".py",
   "mimetype": "text/x-python",
   "name": "python",
   "nbconvert_exporter": "python",
   "pygments_lexer": "ipython3",
   "version": "3.8.3"
  }
 },
 "nbformat": 4,
 "nbformat_minor": 4
}
