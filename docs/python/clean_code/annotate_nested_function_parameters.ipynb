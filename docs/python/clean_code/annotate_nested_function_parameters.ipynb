{
 "cells": [
  {
   "cell_type": "raw",
   "metadata": {},
   "source": [
    "---\n",
    "title: \"Annotate Nested Function Parameters\"\n",
    "author: \"Chris Albon\"\n",
    "date: 2021-02-19T00:00:00-07:00\n",
    "description: \"How to annotate a function with nested parameters in Python.\"\n",
    "type: technical_note\n",
    "draft: false\n",
    "---"
   ]
  },
  {
   "cell_type": "markdown",
   "metadata": {},
   "source": [
    "_This tutorial is inspired by [Clean Code in Python](https://amzn.to/3ue4Ywv) by Mariano Anaya._\n",
    "\n",
    "Python annotations allow us to softly define the data types of function inputs. However, commonly the parameter is a data type that contains other data types, for example a list containing integers."
   ]
  },
  {
   "cell_type": "markdown",
   "metadata": {},
   "source": [
    "## Preliminaries"
   ]
  },
  {
   "cell_type": "code",
   "execution_count": 1,
   "metadata": {},
   "outputs": [],
   "source": [
    "# Import typing library\n",
    "import typing"
   ]
  },
  {
   "cell_type": "markdown",
   "metadata": {},
   "source": [
    "## Create Variables"
   ]
  },
  {
   "cell_type": "code",
   "execution_count": 2,
   "metadata": {},
   "outputs": [],
   "source": [
    "# Create two variables to use as inputs to the function\n",
    "fruit = 'Apple'\n",
    "pieces = 12\n",
    "basket = (fruit, pieces)"
   ]
  },
  {
   "cell_type": "markdown",
   "metadata": {},
   "source": [
    "## Create Function"
   ]
  },
  {
   "cell_type": "code",
   "execution_count": 3,
   "metadata": {},
   "outputs": [],
   "source": [
    "# Create a function called describe_fruit that has one parameter,\n",
    "# called \"container\" that is expected to be a tuple containing a string and an integer.\n",
    "# The output of the function should be a string.\n",
    "def describe_fruit(container: typing.Tuple[str, int]) -> str:\n",
    "    \n",
    "    # Create output from the inputs\n",
    "    description = \"We have \" + str(container[1]) + \" pieces of \" + container[0]\n",
    "    \n",
    "    # Return the output\n",
    "    return description"
   ]
  },
  {
   "cell_type": "markdown",
   "metadata": {},
   "source": [
    "## Execute Function"
   ]
  },
  {
   "cell_type": "code",
   "execution_count": 4,
   "metadata": {
    "scrolled": true
   },
   "outputs": [
    {
     "data": {
      "text/plain": [
       "'We have 12 pieces of Apple'"
      ]
     },
     "execution_count": 4,
     "metadata": {},
     "output_type": "execute_result"
    }
   ],
   "source": [
    "# Run function with inputs\n",
    "describe_fruit(basket)"
   ]
  },
  {
   "cell_type": "markdown",
   "metadata": {},
   "source": [
    "## View Function's Annotations"
   ]
  },
  {
   "cell_type": "code",
   "execution_count": 5,
   "metadata": {},
   "outputs": [
    {
     "data": {
      "text/plain": [
       "{'container': typing.Tuple[str, int], 'return': str}"
      ]
     },
     "execution_count": 5,
     "metadata": {},
     "output_type": "execute_result"
    }
   ],
   "source": [
    "# List the annotations of the function\n",
    "describe_fruit.__annotations__"
   ]
  }
 ],
 "metadata": {
  "kernelspec": {
   "display_name": "Python 3",
   "language": "python",
   "name": "python3"
  },
  "language_info": {
   "codemirror_mode": {
    "name": "ipython",
    "version": 3
   },
   "file_extension": ".py",
   "mimetype": "text/x-python",
   "name": "python",
   "nbconvert_exporter": "python",
   "pygments_lexer": "ipython3",
   "version": "3.8.3"
  }
 },
 "nbformat": 4,
 "nbformat_minor": 4
}
