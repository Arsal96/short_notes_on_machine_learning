{
 "cells": [
  {
   "cell_type": "raw",
   "metadata": {},
   "source": [
    "---\n",
    "title: \"Tuples Vs. Named Tuples\"\n",
    "author: \"Chris Albon\"\n",
    "date: 2020-06-24T11:53:49-07:00\n",
    "description: \"What is the difference between tuples and named tuples\"\n",
    "type: technical_note\n",
    "draft: false\n",
    "---"
   ]
  },
  {
   "cell_type": "markdown",
   "metadata": {},
   "source": [
    "## Preliminaries"
   ]
  },
  {
   "cell_type": "code",
   "execution_count": 1,
   "metadata": {},
   "outputs": [],
   "source": [
    "# Import the collections library\n",
    "import collections"
   ]
  },
  {
   "cell_type": "markdown",
   "metadata": {},
   "source": [
    "## Create A Tuple\n",
    "\n",
    "A tuple is a simple, efficient data type widely used in Python. However, it uses numerical indexes which can be frustrating to use when tuples are large."
   ]
  },
  {
   "cell_type": "code",
   "execution_count": 2,
   "metadata": {},
   "outputs": [],
   "source": [
    "# Create a long tuple\n",
    "employee = ('Jane',\n",
    "            'Miller',\n",
    "            'Engineer',\n",
    "            '29',\n",
    "            '3023 Homespun Place',\n",
    "            '#4023',\n",
    "            'Jacksonville',\n",
    "            'FL',\n",
    "            '49342',\n",
    "            'USA'\n",
    "           )"
   ]
  },
  {
   "cell_type": "markdown",
   "metadata": {},
   "source": [
    "## View Tuple"
   ]
  },
  {
   "cell_type": "code",
   "execution_count": 3,
   "metadata": {
    "scrolled": true
   },
   "outputs": [
    {
     "data": {
      "text/plain": [
       "('Jane',\n",
       " 'Miller',\n",
       " 'Engineer',\n",
       " '29',\n",
       " '3023 Homespun Place',\n",
       " '#4023',\n",
       " 'Jacksonville',\n",
       " 'FL',\n",
       " '49342',\n",
       " 'USA')"
      ]
     },
     "execution_count": 3,
     "metadata": {},
     "output_type": "execute_result"
    }
   ],
   "source": [
    "# Print tuple\n",
    "employee"
   ]
  },
  {
   "cell_type": "markdown",
   "metadata": {},
   "source": [
    "## Select State Value From Tuple"
   ]
  },
  {
   "cell_type": "code",
   "execution_count": 4,
   "metadata": {},
   "outputs": [
    {
     "data": {
      "text/plain": [
       "'Jacksonville'"
      ]
     },
     "execution_count": 4,
     "metadata": {},
     "output_type": "execute_result"
    }
   ],
   "source": [
    "# The state is the 7th element in the tuple, so the index is 6\n",
    "employee[6]"
   ]
  },
  {
   "cell_type": "markdown",
   "metadata": {},
   "source": [
    "## Create A Named Tuple\n",
    "\n",
    "Named tuples are special variation of tuples that are just as memory efficent but allows you to select elements in tuples by name."
   ]
  },
  {
   "cell_type": "code",
   "execution_count": 5,
   "metadata": {},
   "outputs": [],
   "source": [
    "# Create a new named tuple class called Person\n",
    "Person = collections.namedtuple('Person', \n",
    "                                # containing these fields\n",
    "                                'first_name lastname job age address_1 address_2 city, state, zip, country')"
   ]
  },
  {
   "cell_type": "code",
   "execution_count": 6,
   "metadata": {},
   "outputs": [],
   "source": [
    "# Create a named tuple instance called customer\n",
    "customer = Person(first_name = 'Jane',\n",
    "                  lastname = 'Miller',\n",
    "                  job = 'Engineer',\n",
    "                  age = '29',\n",
    "                  address_1 = '3023 Homespun Place',\n",
    "                  address_2 = '#4023',\n",
    "                  city = 'Jacksonville',\n",
    "                  state = 'FL',\n",
    "                  zip = '49342',\n",
    "                  country = 'USA'\n",
    "                 )"
   ]
  },
  {
   "cell_type": "code",
   "execution_count": 7,
   "metadata": {},
   "outputs": [
    {
     "data": {
      "text/plain": [
       "'FL'"
      ]
     },
     "execution_count": 7,
     "metadata": {},
     "output_type": "execute_result"
    }
   ],
   "source": [
    "# View the state\n",
    "customer.state"
   ]
  }
 ],
 "metadata": {
  "kernelspec": {
   "display_name": "Python 3",
   "language": "python",
   "name": "python3"
  },
  "language_info": {
   "codemirror_mode": {
    "name": "ipython",
    "version": 3
   },
   "file_extension": ".py",
   "mimetype": "text/x-python",
   "name": "python",
   "nbconvert_exporter": "python",
   "pygments_lexer": "ipython3",
   "version": "3.7.5"
  }
 },
 "nbformat": 4,
 "nbformat_minor": 2
}
