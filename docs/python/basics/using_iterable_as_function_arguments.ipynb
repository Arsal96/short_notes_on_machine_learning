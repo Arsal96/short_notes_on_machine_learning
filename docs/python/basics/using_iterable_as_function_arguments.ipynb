{
 "cells": [
  {
   "cell_type": "raw",
   "metadata": {},
   "source": [
    "---\n",
    "title: \"Using Iterable As Function Arguments\"\n",
    "author: \"Chris Albon\"\n",
    "date: 2020-07-12T11:00:00-00:00\n",
    "description: \"How to use an interable as the arguments to a function.\"\n",
    "type: technical_note\n",
    "draft: false\n",
    "---"
   ]
  },
  {
   "cell_type": "markdown",
   "metadata": {},
   "source": [
    "## Create Arguments"
   ]
  },
  {
   "cell_type": "code",
   "execution_count": 1,
   "metadata": {},
   "outputs": [],
   "source": [
    "# Create a list with three values\n",
    "scores = [1,2,3]"
   ]
  },
  {
   "cell_type": "code",
   "execution_count": 2,
   "metadata": {},
   "outputs": [],
   "source": [
    "# Create a dictionary with a single key-value pair\n",
    "scores_with_names = {'amy_score': \"200\"}"
   ]
  },
  {
   "cell_type": "markdown",
   "metadata": {},
   "source": [
    "## Create Function With Positional Arguments"
   ]
  },
  {
   "cell_type": "code",
   "execution_count": 3,
   "metadata": {},
   "outputs": [],
   "source": [
    "# Create a function with three positional arguments\n",
    "def show_team_scores(jack_score, amy_score, sarah_score):\n",
    "    # Print each of the positional arguments\n",
    "    print(jack_score, amy_score, sarah_score)"
   ]
  },
  {
   "cell_type": "code",
   "execution_count": 4,
   "metadata": {},
   "outputs": [
    {
     "name": "stdout",
     "output_type": "stream",
     "text": [
      "1 2 3\n"
     ]
    }
   ],
   "source": [
    "# Run the function with * and an iterable object (in this case a list)\n",
    "show_team_scores(*scores)"
   ]
  },
  {
   "cell_type": "markdown",
   "metadata": {},
   "source": [
    "## Create Function Using Keyword Arguments"
   ]
  },
  {
   "cell_type": "code",
   "execution_count": 5,
   "metadata": {},
   "outputs": [],
   "source": [
    "# Create a function with three keyword arguments with default values\n",
    "def show_team_scores(jack_score=0, amy_score=0, sarah_score=0):\n",
    "    # Print each of the keyword arguments\n",
    "    print(jack_score, amy_score, sarah_score)"
   ]
  },
  {
   "cell_type": "code",
   "execution_count": 6,
   "metadata": {},
   "outputs": [
    {
     "name": "stdout",
     "output_type": "stream",
     "text": [
      "0 200 0\n"
     ]
    }
   ],
   "source": [
    "# Run the function with ** and a dictionary\n",
    "show_team_scores(**scores_with_names)"
   ]
  },
  {
   "cell_type": "markdown",
   "metadata": {},
   "source": [
    "Notice how `jack_score` and `sarah_score` used the default values, while `amy_score` used the argument value we defined in `scores_with_names`."
   ]
  }
 ],
 "metadata": {
  "kernelspec": {
   "display_name": "Python 3",
   "language": "python",
   "name": "python3"
  },
  "language_info": {
   "codemirror_mode": {
    "name": "ipython",
    "version": 3
   },
   "file_extension": ".py",
   "mimetype": "text/x-python",
   "name": "python",
   "nbconvert_exporter": "python",
   "pygments_lexer": "ipython3",
   "version": "3.7.5"
  }
 },
 "nbformat": 4,
 "nbformat_minor": 2
}
